{
  "nbformat": 4,
  "nbformat_minor": 0,
  "metadata": {
    "colab": {
      "provenance": []
    },
    "kernelspec": {
      "name": "python3",
      "display_name": "Python 3"
    },
    "language_info": {
      "name": "python"
    }
  },
  "cells": [
    {
      "cell_type": "code",
      "execution_count": null,
      "metadata": {
        "colab": {
          "base_uri": "https://localhost:8080/"
        },
        "id": "GFSFou3GlCzl",
        "outputId": "f8f1a734-3e62-45c0-e146-86231cdcc0f8"
      },
      "outputs": [
        {
          "name": "stdout",
          "output_type": "stream",
          "text": [
            "----------------------This is a simple Calculator with basic Arithmetic Operations----------------------\n",
            "\n",
            "Enter the first number15\n",
            "Enter the second number5\n",
            "What operation do you want to perform? +\n",
            "The result of the entered numbers is  20.0\n",
            "Do you want to continue? (Y/N or y/n)y\n",
            "OK\n",
            "Enter the first number15\n",
            "Enter the second number5\n",
            "What operation do you want to perform? -\n",
            "The result of the entered numbers is  10.0\n",
            "Do you want to continue? (Y/N or y/n)y\n",
            "OK\n",
            "Enter the first number15\n",
            "Enter the second number5\n",
            "What operation do you want to perform? *\n",
            "The result of the entered numbers is  75.0\n",
            "Do you want to continue? (Y/N or y/n)y\n",
            "OK\n",
            "Enter the first number15\n",
            "Enter the second number5\n",
            "What operation do you want to perform? /\n",
            "The result of the entered numbers is  3.0\n",
            "Do you want to continue? (Y/N or y/n)y\n",
            "OK\n",
            "Enter the first number15\n",
            "Enter the second number5\n",
            "What operation do you want to perform? %\n",
            "The result of the entered numbers is  0.0\n",
            "Do you want to continue? (Y/N or y/n)n\n"
          ]
        }
      ],
      "source": [
        "print(\"----------------------This is a simple Calculator with basic Arithmetic Operations----------------------\")\n",
        "print()\n",
        "while(1):\n",
        "  a=float(input(\"Enter the first number\"))\n",
        "  b=float(input(\"Enter the second number\"))\n",
        "  c=input(\"What operation do you want to perform? \")\n",
        "\n",
        "  if(c=='+'):\n",
        "    print(\"The result of the entered numbers is \", a+b)\n",
        "\n",
        "  elif(c=='-'):\n",
        "    if(a>=b):\n",
        "      print(\"The result of the entered numbers is \", a-b)\n",
        "    else:\n",
        "      print(\"The result of the entered numbers is \", b-a)\n",
        "\n",
        "  elif(c=='*'):\n",
        "    print(\"The result of the entered numbers is \", a*b)\n",
        "\n",
        "  elif(c=='/'):\n",
        "    if(a>=b):\n",
        "      print(\"The result of the entered numbers is \", a/b)\n",
        "    else:\n",
        "      print(\"The result of the entered numbers is \", b/a)\n",
        "\n",
        "  elif(c=='%'):\n",
        "   if(a>=b):\n",
        "      print(\"The result of the entered numbers is \", a%b)\n",
        "   else:\n",
        "      print(\"The result of the entered numbers is \", b%a)\n",
        "\n",
        "  else:\n",
        "    print(\"Invalid operation \")\n",
        "\n",
        "  d=input(\"Do you want to continue? (Y/N or y/n)\")\n",
        "\n",
        "  if(d=='Y'or d=='y'):\n",
        "    print(\"OK\")\n",
        "  elif(d=='N'or d=='n'):\n",
        "    break"
      ]
    },
    {
      "cell_type": "code",
      "source": [],
      "metadata": {
        "id": "OQBW0tyWtJnj"
      },
      "execution_count": null,
      "outputs": []
    }
  ]
}